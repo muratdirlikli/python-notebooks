{
 "cells": [
  {
   "attachments": {
    "Metamy%20Logo3.jpg": {
     "image/jpeg": "[encoded data removed]"
    }
   },
   "cell_type": "markdown",
   "id": "d0fa8a8b",
   "metadata": {},
   "source": [
    "![Metamy%20Logo3.jpg](attachment:Metamy%20Logo3.jpg)"
   ]
  },
  {
   "cell_type": "code",
   "execution_count": null,
   "id": "06f67080",
   "metadata": {},
   "outputs": [],
   "source": []
  },
  {
   "cell_type": "markdown",
   "id": "a47f0eaa",
   "metadata": {},
   "source": [
    "# PYTHON BASICS (DAY 2)"
   ]
  },
  {
   "cell_type": "markdown",
   "id": "bdca644f",
   "metadata": {},
   "source": [
    "## Introduction to Python"
   ]
  },
  {
   "cell_type": "markdown",
   "id": "2e6ae615",
   "metadata": {},
   "source": [
    "### print() function"
   ]
  },
  {
   "cell_type": "code",
   "execution_count": null,
   "id": "d3b6db8d",
   "metadata": {},
   "outputs": [],
   "source": []
  },
  {
   "cell_type": "code",
   "execution_count": null,
   "id": "e973e37b",
   "metadata": {},
   "outputs": [],
   "source": []
  },
  {
   "cell_type": "code",
   "execution_count": null,
   "id": "0b2bb6cb",
   "metadata": {},
   "outputs": [],
   "source": []
  },
  {
   "cell_type": "code",
   "execution_count": null,
   "id": "8dbdf036",
   "metadata": {},
   "outputs": [],
   "source": []
  },
  {
   "cell_type": "markdown",
   "id": "a1d23484",
   "metadata": {},
   "source": [
    "SyntaxError: EOL while scanning string literal\n",
    "\n",
    "**All programmers make mistakes**\n",
    "**Great programmers know how to figure out these problems and fix them**\n",
    "\n",
    "In these circumstances take the error message and paste it into google search engine.\n",
    "\n",
    "\n",
    "**https://stackoverflow.com**"
   ]
  },
  {
   "cell_type": "code",
   "execution_count": null,
   "id": "0f9892d3",
   "metadata": {},
   "outputs": [],
   "source": []
  },
  {
   "cell_type": "markdown",
   "id": "38614431",
   "metadata": {},
   "source": [
    "### print() function code challenge"
   ]
  },
  {
   "cell_type": "markdown",
   "id": "7bdd11cd",
   "metadata": {},
   "source": [
    "- Day 1 - Python Print Function\n",
    "- The function is declared like this:\n",
    "- print('what to print')\n",
    "- print(\"what to print\")"
   ]
  },
  {
   "cell_type": "code",
   "execution_count": 1,
   "id": "7b94475b",
   "metadata": {},
   "outputs": [
    {
     "name": "stdout",
     "output_type": "stream",
     "text": [
      "what to print\n"
     ]
    }
   ],
   "source": [
    "print(\"what to print\")"
   ]
  },
  {
   "cell_type": "code",
   "execution_count": null,
   "id": "a1d823ac",
   "metadata": {},
   "outputs": [],
   "source": []
  },
  {
   "cell_type": "code",
   "execution_count": null,
   "id": "3181bcd1",
   "metadata": {},
   "outputs": [],
   "source": []
  },
  {
   "cell_type": "code",
   "execution_count": null,
   "id": "bffb0dee",
   "metadata": {},
   "outputs": [],
   "source": []
  },
  {
   "cell_type": "code",
   "execution_count": null,
   "id": "56cf59f9",
   "metadata": {},
   "outputs": [],
   "source": []
  },
  {
   "cell_type": "markdown",
   "id": "d8914abf",
   "metadata": {},
   "source": [
    "### Arithmetic Operators"
   ]
  },
  {
   "cell_type": "markdown",
   "id": "c8b62c79",
   "metadata": {},
   "source": [
    "The operators \"+\", \"-\", and \"*\" perform addition, subtraction, and multiplication, as in the following examples:\n"
   ]
  },
  {
   "cell_type": "code",
   "execution_count": null,
   "id": "3cf4558c",
   "metadata": {
    "ExecuteTime": {
     "end_time": "2023-10-25T14:44:40.975305Z",
     "start_time": "2023-10-25T14:44:40.951839Z"
    }
   },
   "outputs": [],
   "source": []
  },
  {
   "cell_type": "code",
   "execution_count": null,
   "id": "3d410cf1",
   "metadata": {
    "ExecuteTime": {
     "end_time": "2023-10-25T14:45:21.881442Z",
     "start_time": "2023-10-25T14:45:21.865312Z"
    }
   },
   "outputs": [],
   "source": []
  },
  {
   "cell_type": "code",
   "execution_count": null,
   "id": "16a172ec",
   "metadata": {
    "ExecuteTime": {
     "end_time": "2023-10-25T14:45:28.807760Z",
     "start_time": "2023-10-25T14:45:28.787231Z"
    }
   },
   "outputs": [],
   "source": []
  },
  {
   "cell_type": "code",
   "execution_count": null,
   "id": "8ff83cdb",
   "metadata": {
    "ExecuteTime": {
     "end_time": "2023-10-25T14:45:52.327589Z",
     "start_time": "2023-10-25T14:45:52.315021Z"
    }
   },
   "outputs": [],
   "source": []
  },
  {
   "cell_type": "code",
   "execution_count": null,
   "id": "3d755645",
   "metadata": {
    "ExecuteTime": {
     "end_time": "2023-10-25T14:46:32.554176Z",
     "start_time": "2023-10-25T14:46:32.535377Z"
    }
   },
   "outputs": [],
   "source": []
  },
  {
   "cell_type": "markdown",
   "id": "aa72739b",
   "metadata": {},
   "source": [
    "**Operations Priority**"
   ]
  },
  {
   "cell_type": "markdown",
   "id": "0a7e2658",
   "metadata": {},
   "source": [
    "**PEMDAS**<br>\n",
    "Parentheses<br>\n",
    "Exponents ( ** )<br>\n",
    "Multiplication ( * )<br>\n",
    "Division (/)<br>\n",
    "Addition (+)<br>\n",
    "Subtraction (-)<br>"
   ]
  },
  {
   "cell_type": "code",
   "execution_count": null,
   "id": "94d9334a",
   "metadata": {},
   "outputs": [],
   "source": [
    "print(5 * 5 + 5 / 5 - 5)"
   ]
  },
  {
   "cell_type": "markdown",
   "id": "5bd976b3",
   "metadata": {},
   "source": [
    "**What will you change in the code above if you want to get 5.0 as a output?**"
   ]
  },
  {
   "cell_type": "code",
   "execution_count": 2,
   "id": "76fd1811",
   "metadata": {},
   "outputs": [
    {
     "name": "stdout",
     "output_type": "stream",
     "text": [
      "62.0\n"
     ]
    }
   ],
   "source": [
    "print(5*9+68/4)"
   ]
  },
  {
   "cell_type": "code",
   "execution_count": 3,
   "id": "46b95a6c",
   "metadata": {},
   "outputs": [
    {
     "data": {
      "text/plain": [
       "float"
      ]
     },
     "execution_count": 3,
     "metadata": {},
     "output_type": "execute_result"
    }
   ],
   "source": [
    "type(62.0)"
   ]
  },
  {
   "cell_type": "markdown",
   "id": "b3feb21c",
   "metadata": {},
   "source": [
    "### Values and Types"
   ]
  },
  {
   "cell_type": "markdown",
   "id": "2bf187ad",
   "metadata": {},
   "source": [
    "- A value is one of the basic things a program works with, like a letter or a number.<br>\n",
    "- Some values we have seen so far are 2, 42.0, and 'Hello, World!'<br>\n",
    "- These values belong to different types: 2 is an integer, 42.0 is a floating-point number, and 'Hello, World!' is a string<br>\n",
    "- If you are not sure what type a value has, the interpreter can tell you:"
   ]
  },
  {
   "cell_type": "code",
   "execution_count": null,
   "id": "ded26888",
   "metadata": {
    "ExecuteTime": {
     "end_time": "2023-10-25T15:21:14.303112Z",
     "start_time": "2023-10-25T15:21:14.279872Z"
    }
   },
   "outputs": [],
   "source": []
  },
  {
   "cell_type": "code",
   "execution_count": null,
   "id": "9e01135f",
   "metadata": {
    "ExecuteTime": {
     "end_time": "2023-10-25T15:21:27.471247Z",
     "start_time": "2023-10-25T15:21:27.455747Z"
    }
   },
   "outputs": [],
   "source": []
  },
  {
   "cell_type": "code",
   "execution_count": null,
   "id": "98b61a8d",
   "metadata": {
    "ExecuteTime": {
     "end_time": "2023-10-25T15:21:47.867615Z",
     "start_time": "2023-10-25T15:21:47.853032Z"
    }
   },
   "outputs": [],
   "source": []
  },
  {
   "cell_type": "code",
   "execution_count": null,
   "id": "0878c95c",
   "metadata": {
    "ExecuteTime": {
     "end_time": "2023-10-25T15:32:45.591124Z",
     "start_time": "2023-10-25T15:32:45.572331Z"
    }
   },
   "outputs": [],
   "source": []
  },
  {
   "cell_type": "markdown",
   "id": "fa3d1422",
   "metadata": {},
   "source": [
    "In these results, the word “class” is used in the sense of a category; a type is a category of values."
   ]
  },
  {
   "cell_type": "code",
   "execution_count": null,
   "id": "9ae95908",
   "metadata": {
    "ExecuteTime": {
     "end_time": "2023-10-25T15:34:15.340401Z",
     "start_time": "2023-10-25T15:34:15.324600Z"
    }
   },
   "outputs": [],
   "source": []
  },
  {
   "cell_type": "code",
   "execution_count": null,
   "id": "3f5d05cd",
   "metadata": {
    "ExecuteTime": {
     "end_time": "2023-10-25T15:34:34.003883Z",
     "start_time": "2023-10-25T15:34:33.984835Z"
    }
   },
   "outputs": [],
   "source": []
  },
  {
   "cell_type": "code",
   "execution_count": null,
   "id": "df32ed95",
   "metadata": {},
   "outputs": [],
   "source": []
  },
  {
   "cell_type": "code",
   "execution_count": null,
   "id": "b75c71e0",
   "metadata": {},
   "outputs": [],
   "source": []
  },
  {
   "cell_type": "markdown",
   "id": "ef6220f5",
   "metadata": {},
   "source": [
    "### String Manipulation "
   ]
  },
  {
   "cell_type": "code",
   "execution_count": null,
   "id": "80e22df0",
   "metadata": {
    "scrolled": true
   },
   "outputs": [],
   "source": [
    "print(\"Hello world!\")\n",
    "print(\"Hello world!\")\n",
    "print(\"Hello world!\")"
   ]
  },
  {
   "cell_type": "code",
   "execution_count": 4,
   "id": "fd0a324f",
   "metadata": {
    "scrolled": false
   },
   "outputs": [
    {
     "name": "stdout",
     "output_type": "stream",
     "text": [
      "Hello world!\n",
      "Hello world!\n",
      "Hello world!\n"
     ]
    }
   ],
   "source": [
    "print(\"Hello world!\\nHello world!\\nHello world!\") # new line"
   ]
  },
  {
   "cell_type": "markdown",
   "id": "eb4a2644",
   "metadata": {},
   "source": [
    "#### concatenate the strings"
   ]
  },
  {
   "cell_type": "code",
   "execution_count": null,
   "id": "b9be0778",
   "metadata": {},
   "outputs": [],
   "source": []
  },
  {
   "cell_type": "code",
   "execution_count": null,
   "id": "b219cce9",
   "metadata": {},
   "outputs": [],
   "source": []
  },
  {
   "cell_type": "code",
   "execution_count": null,
   "id": "a2352704",
   "metadata": {},
   "outputs": [],
   "source": []
  },
  {
   "cell_type": "code",
   "execution_count": null,
   "id": "b8719eb1",
   "metadata": {},
   "outputs": [],
   "source": []
  },
  {
   "cell_type": "code",
   "execution_count": null,
   "id": "ea661b74",
   "metadata": {
    "scrolled": false
   },
   "outputs": [],
   "source": []
  },
  {
   "cell_type": "code",
   "execution_count": null,
   "id": "058f860c",
   "metadata": {},
   "outputs": [],
   "source": []
  },
  {
   "cell_type": "markdown",
   "id": "9468b0cd",
   "metadata": {},
   "source": [
    "### Debugging Practice"
   ]
  },
  {
   "cell_type": "code",
   "execution_count": 5,
   "id": "0889157f",
   "metadata": {},
   "outputs": [
    {
     "ename": "SyntaxError",
     "evalue": "unterminated string literal (detected at line 3) (4225614207.py, line 3)",
     "output_type": "error",
     "traceback": [
      "\u001b[1;36m  Cell \u001b[1;32mIn[5], line 3\u001b[1;36m\u001b[0m\n\u001b[1;33m    print(Day 1 - String Manipulation\")\u001b[0m\n\u001b[1;37m                                     ^\u001b[0m\n\u001b[1;31mSyntaxError\u001b[0m\u001b[1;31m:\u001b[0m unterminated string literal (detected at line 3)\n"
     ]
    }
   ],
   "source": [
    "# Fix the code below 👇\n",
    "\n",
    "print(Day 1 - String Manipulation\")\n",
    "print(\"String Concatenation is done with the \"+\" sign.\")\n",
    "    print('e.g. print(\"Hello \" + \"world\")')\n",
    "print((\"New lines can be created with a backslash and n.\")"
   ]
  },
  {
   "cell_type": "code",
   "execution_count": null,
   "id": "9afdb1be",
   "metadata": {},
   "outputs": [],
   "source": []
  },
  {
   "cell_type": "markdown",
   "id": "393b77db",
   "metadata": {},
   "source": [
    "**Solution**"
   ]
  },
  {
   "cell_type": "code",
   "execution_count": null,
   "id": "cc3cf8f6",
   "metadata": {},
   "outputs": [],
   "source": []
  },
  {
   "cell_type": "code",
   "execution_count": null,
   "id": "acd3556b",
   "metadata": {},
   "outputs": [],
   "source": []
  },
  {
   "cell_type": "markdown",
   "id": "b553184e",
   "metadata": {},
   "source": [
    "### input() function"
   ]
  },
  {
   "cell_type": "code",
   "execution_count": null,
   "id": "d72aed56",
   "metadata": {},
   "outputs": [],
   "source": []
  },
  {
   "cell_type": "code",
   "execution_count": null,
   "id": "ecad1e5d",
   "metadata": {},
   "outputs": [],
   "source": []
  },
  {
   "cell_type": "code",
   "execution_count": null,
   "id": "4557f444",
   "metadata": {},
   "outputs": [],
   "source": []
  },
  {
   "cell_type": "markdown",
   "id": "2101219d",
   "metadata": {},
   "source": [
    "**adding comments above your code**"
   ]
  },
  {
   "cell_type": "code",
   "execution_count": null,
   "id": "540c09b3",
   "metadata": {},
   "outputs": [],
   "source": [
    "# input() will get user input in console\n",
    "# then print() will print the word \"Hello\" and the user input\n",
    "\n",
    "print(\"Hello \" + input(\"What is your name?: \")) "
   ]
  },
  {
   "cell_type": "code",
   "execution_count": null,
   "id": "3dca092d",
   "metadata": {},
   "outputs": [],
   "source": []
  },
  {
   "cell_type": "markdown",
   "id": "c485bd3a",
   "metadata": {},
   "source": [
    "### Input Function Practice"
   ]
  },
  {
   "cell_type": "markdown",
   "id": "8ad48e92",
   "metadata": {},
   "source": [
    "**Instructions**\n",
    "\n",
    "Write a program that prints the number of characters in a user's name. You might need to Google for a function that calculates the length of a string.\n",
    "\n",
    "e.g.\n",
    "\n",
    "https://www.google.com/search?q=how+to+get+the+length+of+a+string+in+python+stack+overflow\n",
    "\n",
    "Warning. Your program should work for different inputs. e.g. any name that you input.\n",
    "\n",
    "Example Input: Fatih\n",
    "    \n",
    "Example Output: 5\n",
    "\n",
    "**Hint:** \n",
    "1. You can put functions inside other functions.\n",
    "2. Don't try to print anything other than the length."
   ]
  },
  {
   "cell_type": "markdown",
   "id": "8d3a7fe3",
   "metadata": {},
   "source": []
  },
  {
   "cell_type": "markdown",
   "id": "2cde6a05",
   "metadata": {},
   "source": [
    "**Solution**"
   ]
  },
  {
   "cell_type": "code",
   "execution_count": null,
   "id": "d322c286",
   "metadata": {},
   "outputs": [],
   "source": []
  },
  {
   "cell_type": "code",
   "execution_count": null,
   "id": "10bc8973",
   "metadata": {},
   "outputs": [],
   "source": []
  },
  {
   "cell_type": "markdown",
   "id": "1b915bd2",
   "metadata": {},
   "source": [
    "### Variables"
   ]
  },
  {
   "cell_type": "markdown",
   "id": "8467c985",
   "metadata": {},
   "source": [
    "- A variable is a name that refers to a value<br>\n",
    "- An assignment statement creates a new variable and gives it a value:"
   ]
  },
  {
   "cell_type": "code",
   "execution_count": null,
   "id": "ea7f73a8",
   "metadata": {},
   "outputs": [],
   "source": []
  },
  {
   "cell_type": "code",
   "execution_count": null,
   "id": "95dc5442",
   "metadata": {},
   "outputs": [],
   "source": []
  },
  {
   "cell_type": "code",
   "execution_count": null,
   "id": "f45c5d4f",
   "metadata": {},
   "outputs": [],
   "source": []
  },
  {
   "cell_type": "code",
   "execution_count": null,
   "id": "e15827c7",
   "metadata": {},
   "outputs": [],
   "source": []
  },
  {
   "cell_type": "code",
   "execution_count": null,
   "id": "e87446b7",
   "metadata": {},
   "outputs": [],
   "source": []
  },
  {
   "cell_type": "code",
   "execution_count": null,
   "id": "a00c2ce2",
   "metadata": {},
   "outputs": [],
   "source": []
  },
  {
   "cell_type": "code",
   "execution_count": null,
   "id": "036cfeb6",
   "metadata": {},
   "outputs": [],
   "source": []
  },
  {
   "cell_type": "code",
   "execution_count": null,
   "id": "2f3588bf",
   "metadata": {},
   "outputs": [],
   "source": []
  },
  {
   "cell_type": "code",
   "execution_count": null,
   "id": "16db04d8",
   "metadata": {},
   "outputs": [],
   "source": []
  },
  {
   "cell_type": "code",
   "execution_count": null,
   "id": "7386069c",
   "metadata": {},
   "outputs": [],
   "source": []
  },
  {
   "cell_type": "code",
   "execution_count": null,
   "id": "f88ffd6f",
   "metadata": {
    "scrolled": true
   },
   "outputs": [],
   "source": []
  },
  {
   "cell_type": "code",
   "execution_count": null,
   "id": "d106a87e",
   "metadata": {},
   "outputs": [],
   "source": []
  },
  {
   "cell_type": "code",
   "execution_count": null,
   "id": "9d4de9f5",
   "metadata": {},
   "outputs": [],
   "source": []
  },
  {
   "cell_type": "code",
   "execution_count": null,
   "id": "fcaf7e68",
   "metadata": {
    "colab": {
     "base_uri": "https://localhost:8080/"
    },
    "executionInfo": {
     "elapsed": 4,
     "status": "ok",
     "timestamp": 1643062433595,
     "user": {
      "displayName": "Kerime abanoz",
      "photoUrl": "https://lh3.googleusercontent.com/a-/AOh14Gg75ZvmYYjoB0thUMQZ-iR3_ByHcWn09K9Qk3pP7A=s64",
      "userId": "03972199748748116213"
     },
     "user_tz": -180
    },
    "id": "W6oMI0wtIT4d",
    "outputId": "b159ecf7-6720-4362-9c90-cde5717789c5"
   },
   "outputs": [],
   "source": []
  },
  {
   "cell_type": "code",
   "execution_count": null,
   "id": "ac030800",
   "metadata": {
    "id": "rIu1R7b_OgYM"
   },
   "outputs": [],
   "source": []
  },
  {
   "cell_type": "code",
   "execution_count": null,
   "id": "fdf1e9f6",
   "metadata": {
    "colab": {
     "base_uri": "https://localhost:8080/"
    },
    "executionInfo": {
     "elapsed": 7,
     "status": "ok",
     "timestamp": 1643064074052,
     "user": {
      "displayName": "Kerime abanoz",
      "photoUrl": "https://lh3.googleusercontent.com/a-/AOh14Gg75ZvmYYjoB0thUMQZ-iR3_ByHcWn09K9Qk3pP7A=s64",
      "userId": "03972199748748116213"
     },
     "user_tz": -180
    },
    "id": "dfl2K33hPRAp",
    "outputId": "c4497420-9428-4993-fd74-fbd1afab59c8"
   },
   "outputs": [],
   "source": []
  },
  {
   "cell_type": "code",
   "execution_count": null,
   "id": "8d7c903d",
   "metadata": {
    "colab": {
     "base_uri": "https://localhost:8080/"
    },
    "executionInfo": {
     "elapsed": 447,
     "status": "ok",
     "timestamp": 1643064158768,
     "user": {
      "displayName": "Kerime abanoz",
      "photoUrl": "https://lh3.googleusercontent.com/a-/AOh14Gg75ZvmYYjoB0thUMQZ-iR3_ByHcWn09K9Qk3pP7A=s64",
      "userId": "03972199748748116213"
     },
     "user_tz": -180
    },
    "id": "CMRnL8XrP89G",
    "outputId": "1cdb717c-82c5-4e24-f32f-079d15996674"
   },
   "outputs": [],
   "source": []
  },
  {
   "cell_type": "code",
   "execution_count": null,
   "id": "63730bb0",
   "metadata": {
    "colab": {
     "base_uri": "https://localhost:8080/"
    },
    "executionInfo": {
     "elapsed": 6,
     "status": "ok",
     "timestamp": 1643064360063,
     "user": {
      "displayName": "Kerime abanoz",
      "photoUrl": "https://lh3.googleusercontent.com/a-/AOh14Gg75ZvmYYjoB0thUMQZ-iR3_ByHcWn09K9Qk3pP7A=s64",
      "userId": "03972199748748116213"
     },
     "user_tz": -180
    },
    "id": "ufTuKVyrQL9g",
    "outputId": "115fb46c-fa02-43cc-959b-df495c75d3ba"
   },
   "outputs": [],
   "source": []
  },
  {
   "cell_type": "code",
   "execution_count": null,
   "id": "d3db5afd",
   "metadata": {
    "colab": {
     "base_uri": "https://localhost:8080/"
    },
    "executionInfo": {
     "elapsed": 436,
     "status": "ok",
     "timestamp": 1643064529998,
     "user": {
      "displayName": "Kerime abanoz",
      "photoUrl": "https://lh3.googleusercontent.com/a-/AOh14Gg75ZvmYYjoB0thUMQZ-iR3_ByHcWn09K9Qk3pP7A=s64",
      "userId": "03972199748748116213"
     },
     "user_tz": -180
    },
    "id": "XWsunRXQRHL0",
    "outputId": "b2981c58-88ec-439b-e921-319efe8f6a07"
   },
   "outputs": [],
   "source": []
  },
  {
   "cell_type": "code",
   "execution_count": null,
   "id": "5eb4ad96",
   "metadata": {
    "colab": {
     "base_uri": "https://localhost:8080/"
    },
    "executionInfo": {
     "elapsed": 417,
     "status": "ok",
     "timestamp": 1643064703358,
     "user": {
      "displayName": "Kerime abanoz",
      "photoUrl": "https://lh3.googleusercontent.com/a-/AOh14Gg75ZvmYYjoB0thUMQZ-iR3_ByHcWn09K9Qk3pP7A=s64",
      "userId": "03972199748748116213"
     },
     "user_tz": -180
    },
    "id": "-uJfAOjRRdic",
    "outputId": "8b176be6-cf02-4e3c-bec1-49fb264a98dc"
   },
   "outputs": [],
   "source": []
  },
  {
   "cell_type": "code",
   "execution_count": null,
   "id": "9a5b5ce8",
   "metadata": {
    "colab": {
     "base_uri": "https://localhost:8080/"
    },
    "executionInfo": {
     "elapsed": 7,
     "status": "ok",
     "timestamp": 1643064914653,
     "user": {
      "displayName": "Kerime abanoz",
      "photoUrl": "https://lh3.googleusercontent.com/a-/AOh14Gg75ZvmYYjoB0thUMQZ-iR3_ByHcWn09K9Qk3pP7A=s64",
      "userId": "03972199748748116213"
     },
     "user_tz": -180
    },
    "id": "UBc9MgpxR_WS",
    "outputId": "ccffc9cb-e1ce-4e31-d9bc-88e45bfcd6e0"
   },
   "outputs": [],
   "source": []
  },
  {
   "cell_type": "code",
   "execution_count": null,
   "id": "8d37aacb",
   "metadata": {
    "colab": {
     "base_uri": "https://localhost:8080/"
    },
    "executionInfo": {
     "elapsed": 398,
     "status": "ok",
     "timestamp": 1643065745488,
     "user": {
      "displayName": "Kerime abanoz",
      "photoUrl": "https://lh3.googleusercontent.com/a-/AOh14Gg75ZvmYYjoB0thUMQZ-iR3_ByHcWn09K9Qk3pP7A=s64",
      "userId": "03972199748748116213"
     },
     "user_tz": -180
    },
    "id": "DmnC275KTO7r",
    "outputId": "a3d4e7e5-7744-49dd-8829-34c140961140"
   },
   "outputs": [],
   "source": []
  },
  {
   "cell_type": "code",
   "execution_count": null,
   "id": "5c7d39e8",
   "metadata": {
    "colab": {
     "base_uri": "https://localhost:8080/"
    },
    "executionInfo": {
     "elapsed": 411,
     "status": "ok",
     "timestamp": 1643065779663,
     "user": {
      "displayName": "Kerime abanoz",
      "photoUrl": "https://lh3.googleusercontent.com/a-/AOh14Gg75ZvmYYjoB0thUMQZ-iR3_ByHcWn09K9Qk3pP7A=s64",
      "userId": "03972199748748116213"
     },
     "user_tz": -180
    },
    "id": "Z7wxjXsZWAnM",
    "outputId": "3f628ac5-1a2b-4a56-f3f6-3023c7d48f1f"
   },
   "outputs": [],
   "source": []
  },
  {
   "cell_type": "code",
   "execution_count": null,
   "id": "99495cc3",
   "metadata": {
    "colab": {
     "base_uri": "https://localhost:8080/"
    },
    "executionInfo": {
     "elapsed": 9,
     "status": "ok",
     "timestamp": 1643066548858,
     "user": {
      "displayName": "Kerime abanoz",
      "photoUrl": "https://lh3.googleusercontent.com/a-/AOh14Gg75ZvmYYjoB0thUMQZ-iR3_ByHcWn09K9Qk3pP7A=s64",
      "userId": "03972199748748116213"
     },
     "user_tz": -180
    },
    "id": "YkvH-U7_Wa0y",
    "outputId": "0c2c2726-7606-47ba-ade0-f8886bda8caf"
   },
   "outputs": [],
   "source": []
  },
  {
   "cell_type": "code",
   "execution_count": null,
   "id": "85936f99",
   "metadata": {
    "colab": {
     "base_uri": "https://localhost:8080/"
    },
    "executionInfo": {
     "elapsed": 9,
     "status": "ok",
     "timestamp": 1643066558152,
     "user": {
      "displayName": "Kerime abanoz",
      "photoUrl": "https://lh3.googleusercontent.com/a-/AOh14Gg75ZvmYYjoB0thUMQZ-iR3_ByHcWn09K9Qk3pP7A=s64",
      "userId": "03972199748748116213"
     },
     "user_tz": -180
    },
    "id": "4SGW0djdZd5Q",
    "outputId": "62dcf609-44f7-4a62-90bb-e969aff36dfe"
   },
   "outputs": [],
   "source": []
  },
  {
   "cell_type": "code",
   "execution_count": null,
   "id": "7135250c",
   "metadata": {
    "colab": {
     "base_uri": "https://localhost:8080/"
    },
    "executionInfo": {
     "elapsed": 9,
     "status": "ok",
     "timestamp": 1643066635684,
     "user": {
      "displayName": "Kerime abanoz",
      "photoUrl": "https://lh3.googleusercontent.com/a-/AOh14Gg75ZvmYYjoB0thUMQZ-iR3_ByHcWn09K9Qk3pP7A=s64",
      "userId": "03972199748748116213"
     },
     "user_tz": -180
    },
    "id": "TJOmX0M1ZgMi",
    "outputId": "1dab9950-9c9b-4e15-b227-1b46d22c1443"
   },
   "outputs": [],
   "source": []
  },
  {
   "cell_type": "code",
   "execution_count": null,
   "id": "b64a7e2a",
   "metadata": {
    "colab": {
     "base_uri": "https://localhost:8080/"
    },
    "executionInfo": {
     "elapsed": 9,
     "status": "ok",
     "timestamp": 1643066679855,
     "user": {
      "displayName": "Kerime abanoz",
      "photoUrl": "https://lh3.googleusercontent.com/a-/AOh14Gg75ZvmYYjoB0thUMQZ-iR3_ByHcWn09K9Qk3pP7A=s64",
      "userId": "03972199748748116213"
     },
     "user_tz": -180
    },
    "id": "6TyI47zDZv08",
    "outputId": "7f087ef7-d180-488a-c50b-bd91216de080"
   },
   "outputs": [],
   "source": []
  },
  {
   "cell_type": "code",
   "execution_count": null,
   "id": "8c0afdf9",
   "metadata": {
    "colab": {
     "base_uri": "https://localhost:8080/"
    },
    "executionInfo": {
     "elapsed": 9,
     "status": "ok",
     "timestamp": 1643066706190,
     "user": {
      "displayName": "Kerime abanoz",
      "photoUrl": "https://lh3.googleusercontent.com/a-/AOh14Gg75ZvmYYjoB0thUMQZ-iR3_ByHcWn09K9Qk3pP7A=s64",
      "userId": "03972199748748116213"
     },
     "user_tz": -180
    },
    "id": "yOHGmNNzZ913",
    "outputId": "97380a66-0a8b-46df-dfc0-0b16f867e44e"
   },
   "outputs": [],
   "source": []
  },
  {
   "cell_type": "code",
   "execution_count": null,
   "id": "7627f72f",
   "metadata": {
    "colab": {
     "base_uri": "https://localhost:8080/"
    },
    "executionInfo": {
     "elapsed": 10,
     "status": "ok",
     "timestamp": 1643066977910,
     "user": {
      "displayName": "Kerime abanoz",
      "photoUrl": "https://lh3.googleusercontent.com/a-/AOh14Gg75ZvmYYjoB0thUMQZ-iR3_ByHcWn09K9Qk3pP7A=s64",
      "userId": "03972199748748116213"
     },
     "user_tz": -180
    },
    "id": "rbrIIuseaESL",
    "outputId": "d95f9d13-4e65-4bf8-d12b-e7d6de585903"
   },
   "outputs": [],
   "source": []
  },
  {
   "cell_type": "code",
   "execution_count": null,
   "id": "4b4fa12d",
   "metadata": {
    "colab": {
     "base_uri": "https://localhost:8080/"
    },
    "executionInfo": {
     "elapsed": 9,
     "status": "ok",
     "timestamp": 1643067001928,
     "user": {
      "displayName": "Kerime abanoz",
      "photoUrl": "https://lh3.googleusercontent.com/a-/AOh14Gg75ZvmYYjoB0thUMQZ-iR3_ByHcWn09K9Qk3pP7A=s64",
      "userId": "03972199748748116213"
     },
     "user_tz": -180
    },
    "id": "obxvz94JbGmp",
    "outputId": "34d610c0-704a-45c4-9590-667539b76e7d"
   },
   "outputs": [],
   "source": []
  },
  {
   "cell_type": "code",
   "execution_count": null,
   "id": "ce02bcf4",
   "metadata": {
    "colab": {
     "base_uri": "https://localhost:8080/"
    },
    "executionInfo": {
     "elapsed": 9,
     "status": "ok",
     "timestamp": 1643067105828,
     "user": {
      "displayName": "Kerime abanoz",
      "photoUrl": "https://lh3.googleusercontent.com/a-/AOh14Gg75ZvmYYjoB0thUMQZ-iR3_ByHcWn09K9Qk3pP7A=s64",
      "userId": "03972199748748116213"
     },
     "user_tz": -180
    },
    "id": "U9KDDiqXbMl2",
    "outputId": "bdeebd80-0831-4162-fc0f-01877130855c"
   },
   "outputs": [],
   "source": []
  },
  {
   "cell_type": "code",
   "execution_count": null,
   "id": "96133865",
   "metadata": {
    "colab": {
     "base_uri": "https://localhost:8080/",
     "height": 37
    },
    "executionInfo": {
     "elapsed": 10,
     "status": "ok",
     "timestamp": 1643067248434,
     "user": {
      "displayName": "Kerime abanoz",
      "photoUrl": "https://lh3.googleusercontent.com/a-/AOh14Gg75ZvmYYjoB0thUMQZ-iR3_ByHcWn09K9Qk3pP7A=s64",
      "userId": "03972199748748116213"
     },
     "user_tz": -180
    },
    "id": "7JzE6dHXbl0v",
    "outputId": "98de5934-4709-4ded-d7df-c55a5d444b05"
   },
   "outputs": [],
   "source": []
  },
  {
   "cell_type": "code",
   "execution_count": null,
   "id": "f5ba7e38",
   "metadata": {
    "colab": {
     "base_uri": "https://localhost:8080/",
     "height": 37
    },
    "executionInfo": {
     "elapsed": 7,
     "status": "ok",
     "timestamp": 1643067262667,
     "user": {
      "displayName": "Kerime abanoz",
      "photoUrl": "https://lh3.googleusercontent.com/a-/AOh14Gg75ZvmYYjoB0thUMQZ-iR3_ByHcWn09K9Qk3pP7A=s64",
      "userId": "03972199748748116213"
     },
     "user_tz": -180
    },
    "id": "0f_FyVJDcIqH",
    "outputId": "c43e120b-19e8-4e4f-adbe-17b6428a66b4"
   },
   "outputs": [],
   "source": []
  },
  {
   "cell_type": "code",
   "execution_count": null,
   "id": "c475cab7",
   "metadata": {
    "colab": {
     "base_uri": "https://localhost:8080/"
    },
    "executionInfo": {
     "elapsed": 7,
     "status": "ok",
     "timestamp": 1643067334681,
     "user": {
      "displayName": "Kerime abanoz",
      "photoUrl": "https://lh3.googleusercontent.com/a-/AOh14Gg75ZvmYYjoB0thUMQZ-iR3_ByHcWn09K9Qk3pP7A=s64",
      "userId": "03972199748748116213"
     },
     "user_tz": -180
    },
    "id": "M8XCZGO0cMDO",
    "outputId": "b68645e7-8794-409f-985f-ac6dba9f431d"
   },
   "outputs": [],
   "source": []
  },
  {
   "cell_type": "code",
   "execution_count": null,
   "id": "59b8ea97",
   "metadata": {
    "colab": {
     "base_uri": "https://localhost:8080/"
    },
    "executionInfo": {
     "elapsed": 10,
     "status": "ok",
     "timestamp": 1643067555720,
     "user": {
      "displayName": "Kerime abanoz",
      "photoUrl": "https://lh3.googleusercontent.com/a-/AOh14Gg75ZvmYYjoB0thUMQZ-iR3_ByHcWn09K9Qk3pP7A=s64",
      "userId": "03972199748748116213"
     },
     "user_tz": -180
    },
    "id": "POCRqLe0cdzM",
    "outputId": "4d38106c-1c6a-44c9-e73e-efc44efda826"
   },
   "outputs": [],
   "source": []
  },
  {
   "cell_type": "code",
   "execution_count": null,
   "id": "4738b9dd",
   "metadata": {
    "colab": {
     "base_uri": "https://localhost:8080/"
    },
    "executionInfo": {
     "elapsed": 4,
     "status": "ok",
     "timestamp": 1643067583566,
     "user": {
      "displayName": "Kerime abanoz",
      "photoUrl": "https://lh3.googleusercontent.com/a-/AOh14Gg75ZvmYYjoB0thUMQZ-iR3_ByHcWn09K9Qk3pP7A=s64",
      "userId": "03972199748748116213"
     },
     "user_tz": -180
    },
    "id": "6MSvQtyTdTx2",
    "outputId": "dde2648f-7179-4162-c7a7-375aa02ddde8"
   },
   "outputs": [],
   "source": []
  },
  {
   "cell_type": "code",
   "execution_count": null,
   "id": "3ff5a444",
   "metadata": {
    "colab": {
     "base_uri": "https://localhost:8080/"
    },
    "executionInfo": {
     "elapsed": 422,
     "status": "ok",
     "timestamp": 1643067605260,
     "user": {
      "displayName": "Kerime abanoz",
      "photoUrl": "https://lh3.googleusercontent.com/a-/AOh14Gg75ZvmYYjoB0thUMQZ-iR3_ByHcWn09K9Qk3pP7A=s64",
      "userId": "03972199748748116213"
     },
     "user_tz": -180
    },
    "id": "HkkCTW8Bdamo",
    "outputId": "34bd64ef-0922-4b07-e65a-567fed64e4df"
   },
   "outputs": [],
   "source": []
  },
  {
   "cell_type": "code",
   "execution_count": null,
   "id": "1b4e8fdf",
   "metadata": {
    "colab": {
     "base_uri": "https://localhost:8080/"
    },
    "executionInfo": {
     "elapsed": 8,
     "status": "ok",
     "timestamp": 1643068739714,
     "user": {
      "displayName": "Kerime abanoz",
      "photoUrl": "https://lh3.googleusercontent.com/a-/AOh14Gg75ZvmYYjoB0thUMQZ-iR3_ByHcWn09K9Qk3pP7A=s64",
      "userId": "03972199748748116213"
     },
     "user_tz": -180
    },
    "id": "TR5douOkdddm",
    "outputId": "0ce29b78-47ee-41e3-fe9f-148cd6e0f17f"
   },
   "outputs": [],
   "source": []
  },
  {
   "cell_type": "code",
   "execution_count": null,
   "id": "7fe83f7e",
   "metadata": {
    "colab": {
     "base_uri": "https://localhost:8080/",
     "height": 37
    },
    "executionInfo": {
     "elapsed": 397,
     "status": "ok",
     "timestamp": 1643068781670,
     "user": {
      "displayName": "Kerime abanoz",
      "photoUrl": "https://lh3.googleusercontent.com/a-/AOh14Gg75ZvmYYjoB0thUMQZ-iR3_ByHcWn09K9Qk3pP7A=s64",
      "userId": "03972199748748116213"
     },
     "user_tz": -180
    },
    "id": "xIGRMFzhgM-i",
    "outputId": "c96d11a2-8356-43ed-c131-22150501c3d9"
   },
   "outputs": [],
   "source": []
  },
  {
   "cell_type": "code",
   "execution_count": null,
   "id": "f7157d6b",
   "metadata": {
    "colab": {
     "base_uri": "https://localhost:8080/"
    },
    "executionInfo": {
     "elapsed": 10,
     "status": "ok",
     "timestamp": 1643920403726,
     "user": {
      "displayName": "Kerime abanoz",
      "photoUrl": "https://lh3.googleusercontent.com/a-/AOh14Gg75ZvmYYjoB0thUMQZ-iR3_ByHcWn09K9Qk3pP7A=s64",
      "userId": "03972199748748116213"
     },
     "user_tz": -180
    },
    "id": "MIoVaS9ChLGL",
    "outputId": "f14bea58-4503-4928-912e-16c250416d97"
   },
   "outputs": [],
   "source": []
  },
  {
   "cell_type": "code",
   "execution_count": null,
   "id": "ac8eb596",
   "metadata": {
    "colab": {
     "base_uri": "https://localhost:8080/",
     "height": 37
    },
    "executionInfo": {
     "elapsed": 288,
     "status": "ok",
     "timestamp": 1643920425548,
     "user": {
      "displayName": "Kerime abanoz",
      "photoUrl": "https://lh3.googleusercontent.com/a-/AOh14Gg75ZvmYYjoB0thUMQZ-iR3_ByHcWn09K9Qk3pP7A=s64",
      "userId": "03972199748748116213"
     },
     "user_tz": -180
    },
    "id": "tVagfCJzSrUv",
    "outputId": "a1102ec1-dbc9-4fa7-aae1-befbf7b469a8"
   },
   "outputs": [],
   "source": []
  },
  {
   "cell_type": "code",
   "execution_count": null,
   "id": "a240d8b8",
   "metadata": {
    "colab": {
     "base_uri": "https://localhost:8080/",
     "height": 164
    },
    "executionInfo": {
     "elapsed": 9,
     "status": "error",
     "timestamp": 1643068811675,
     "user": {
      "displayName": "Kerime abanoz",
      "photoUrl": "https://lh3.googleusercontent.com/a-/AOh14Gg75ZvmYYjoB0thUMQZ-iR3_ByHcWn09K9Qk3pP7A=s64",
      "userId": "03972199748748116213"
     },
     "user_tz": -180
    },
    "id": "7NuHGncWiB2c",
    "outputId": "2d751194-1161-4bdc-e9af-8e7d08eab7da"
   },
   "outputs": [],
   "source": []
  },
  {
   "cell_type": "code",
   "execution_count": null,
   "id": "a2e2d9a0",
   "metadata": {
    "colab": {
     "base_uri": "https://localhost:8080/"
    },
    "executionInfo": {
     "elapsed": 6,
     "status": "ok",
     "timestamp": 1643070677833,
     "user": {
      "displayName": "Kerime abanoz",
      "photoUrl": "https://lh3.googleusercontent.com/a-/AOh14Gg75ZvmYYjoB0thUMQZ-iR3_ByHcWn09K9Qk3pP7A=s64",
      "userId": "03972199748748116213"
     },
     "user_tz": -180
    },
    "id": "LRmKu1FLiGTV",
    "outputId": "1bfef194-785f-4b7c-f750-2f4a3bdfe965"
   },
   "outputs": [],
   "source": []
  },
  {
   "cell_type": "code",
   "execution_count": null,
   "id": "3c368f2e",
   "metadata": {},
   "outputs": [],
   "source": []
  },
  {
   "cell_type": "code",
   "execution_count": null,
   "id": "1ff41df6",
   "metadata": {},
   "outputs": [],
   "source": []
  },
  {
   "cell_type": "code",
   "execution_count": null,
   "id": "59d5893a",
   "metadata": {},
   "outputs": [],
   "source": []
  },
  {
   "cell_type": "markdown",
   "id": "89ea9336",
   "metadata": {},
   "source": [
    "### Variables Practice"
   ]
  },
  {
   "cell_type": "markdown",
   "id": "1332d320",
   "metadata": {},
   "source": [
    "**Instructions**\n",
    "\n",
    "Write a program that switches the values stored in the variables a and b.\n",
    "\n",
    "Your program should work for different inputs. e.g. any value of a and b.\n",
    "\n",
    "Example Input: \n",
    "a: 3\n",
    "b: 5\n",
    "    \n",
    "Example Output: \n",
    "a: 5\n",
    "b: 3\n",
    "\n",
    "**Hint:** \n",
    "1. You should not have to type any numbers in your code.\n",
    "2. You might need to make some more variables."
   ]
  },
  {
   "attachments": {
    "image-2.png": {
     "image/png": "[encoded data removed]"
    }
   },
   "cell_type": "markdown",
   "id": "deed5c6d",
   "metadata": {},
   "source": [
    "![image-2.png](attachment:image-2.png)"
   ]
  },
  {
   "cell_type": "markdown",
   "id": "9dcc6e4d",
   "metadata": {},
   "source": []
  },
  {
   "cell_type": "markdown",
   "id": "1a6a05ec",
   "metadata": {},
   "source": [
    "**Solution**"
   ]
  },
  {
   "cell_type": "code",
   "execution_count": null,
   "id": "d099d099",
   "metadata": {},
   "outputs": [],
   "source": []
  },
  {
   "cell_type": "code",
   "execution_count": null,
   "id": "22c7449e",
   "metadata": {
    "scrolled": true
   },
   "outputs": [],
   "source": []
  },
  {
   "cell_type": "markdown",
   "id": "c6e241be",
   "metadata": {},
   "source": [
    "**If it's not clear use annotation or white board**"
   ]
  },
  {
   "cell_type": "code",
   "execution_count": null,
   "id": "621a18c3",
   "metadata": {},
   "outputs": [],
   "source": []
  },
  {
   "cell_type": "markdown",
   "id": "eb2e45cc",
   "metadata": {},
   "source": [
    "### Variable Naming\n",
    "\n",
    "- Variable names can be as long as you like. They can contain both letters and numbers, but they can’t begin with a number. \n",
    "- It is legal to use uppercase letters, but it is conventional to use only lowercase for variables names.\n",
    "\n",
    "\n",
    "### Rules for variable names\n",
    "* names can not start with a number\n",
    "* names can not contain spaces, use _ instead\n",
    "* names can not contain any of these symbols:\n",
    "\n",
    "      :'\",<>/?|\\!@#%^&*~-+\n",
    "       \n",
    "* it's considered best practice ([PEP8](https://www.python.org/dev/peps/pep-0008/#function-and-variable-names)) that names are lowercase with underscores\n",
    "* avoid using Python built-in keywords like `list` and `str`\n",
    "* avoid using the single characters `l` (lowercase letter el), `O` (uppercase letter oh) and `I` (uppercase letter eye) as they can be confused with `1` and `0`"
   ]
  },
  {
   "cell_type": "code",
   "execution_count": null,
   "id": "cf89939c",
   "metadata": {
    "ExecuteTime": {
     "end_time": "2023-10-25T15:53:31.139121Z",
     "start_time": "2023-10-25T15:53:31.112425Z"
    }
   },
   "outputs": [],
   "source": [
    "2000doğumlular = [\"Selen\", \"Kerim\", \"Efe\"]"
   ]
  },
  {
   "cell_type": "code",
   "execution_count": null,
   "id": "c18f355f",
   "metadata": {
    "ExecuteTime": {
     "end_time": "2023-10-25T15:53:52.059456Z",
     "start_time": "2023-10-25T15:53:51.490528Z"
    }
   },
   "outputs": [],
   "source": [
    "more@ = 1000"
   ]
  },
  {
   "cell_type": "code",
   "execution_count": null,
   "id": "f9ce4dc5",
   "metadata": {
    "ExecuteTime": {
     "end_time": "2023-10-25T15:54:41.301381Z",
     "start_time": "2023-10-25T15:54:41.292406Z"
    }
   },
   "outputs": [],
   "source": [
    "class = \"Hello World!\""
   ]
  },
  {
   "cell_type": "code",
   "execution_count": null,
   "id": "f517c069",
   "metadata": {},
   "outputs": [],
   "source": []
  },
  {
   "cell_type": "code",
   "execution_count": null,
   "id": "1b38ce1c",
   "metadata": {},
   "outputs": [],
   "source": []
  },
  {
   "cell_type": "code",
   "execution_count": null,
   "id": "e81fe4f4",
   "metadata": {},
   "outputs": [],
   "source": []
  },
  {
   "cell_type": "markdown",
   "id": "b203dda1",
   "metadata": {},
   "source": [
    "**Variable Naming Quiz**"
   ]
  },
  {
   "cell_type": "code",
   "execution_count": null,
   "id": "f3d014de",
   "metadata": {
    "ExecuteTime": {
     "end_time": "2023-10-25T16:31:15.999938Z",
     "start_time": "2023-10-25T16:31:15.365130Z"
    },
    "scrolled": true
   },
   "outputs": [],
   "source": [
    "time_until_Midnight = \"5\"\n",
    "print(\"There are \" + time_until_midnight + \" hours until midnight\")"
   ]
  },
  {
   "cell_type": "code",
   "execution_count": null,
   "id": "9673f93e",
   "metadata": {},
   "outputs": [],
   "source": []
  },
  {
   "cell_type": "markdown",
   "id": "4c4a4764",
   "metadata": {},
   "source": [
    "### Challenge-1 (Team Name Generator)"
   ]
  },
  {
   "cell_type": "code",
   "execution_count": null,
   "id": "f4ab4518",
   "metadata": {},
   "outputs": [],
   "source": [
    "#1. Create a greeting for your program.\n",
    "\n",
    "#2. Ask the user for the city that they grew up in.\n",
    "\n",
    "#3. Ask the user for the name of a pet.\n",
    "\n",
    "#4. Combine the name of their city and pet and show them their band name.\n",
    "\n",
    "#5. Make sure the input cursor shows on a new line"
   ]
  },
  {
   "cell_type": "markdown",
   "id": "1d2f6942",
   "metadata": {},
   "source": [
    "**Expected output such as:**\n",
    "\n",
    "Welcome to the Team Name Generator.<br>\n",
    "What's the name of the city you grew up in?<br>\n",
    "Ankara<br>\n",
    "What's your pet's name?<br>\n",
    "Dost<br>\n",
    "Your team name could be Ankara Dost"
   ]
  },
  {
   "cell_type": "markdown",
   "id": "e3f84f52",
   "metadata": {},
   "source": [
    "**Solution**"
   ]
  },
  {
   "cell_type": "code",
   "execution_count": null,
   "id": "acbc5abc",
   "metadata": {},
   "outputs": [],
   "source": []
  },
  {
   "cell_type": "code",
   "execution_count": null,
   "id": "63f42b90",
   "metadata": {},
   "outputs": [],
   "source": []
  },
  {
   "cell_type": "markdown",
   "id": "806eb92c",
   "metadata": {},
   "source": [
    "### Data Types"
   ]
  },
  {
   "cell_type": "code",
   "execution_count": null,
   "id": "a3ae447a",
   "metadata": {},
   "outputs": [],
   "source": []
  },
  {
   "cell_type": "markdown",
   "id": "1e2d9298",
   "metadata": {},
   "source": [
    "**To learn why this is happening we should first learn data types**"
   ]
  },
  {
   "cell_type": "code",
   "execution_count": null,
   "id": "6bcef377",
   "metadata": {},
   "outputs": [],
   "source": []
  },
  {
   "cell_type": "markdown",
   "id": "b3b47357",
   "metadata": {},
   "source": [
    "**String**"
   ]
  },
  {
   "cell_type": "code",
   "execution_count": null,
   "id": "da9df84b",
   "metadata": {},
   "outputs": [],
   "source": []
  },
  {
   "cell_type": "markdown",
   "id": "a61ebd1c",
   "metadata": {},
   "source": [
    "**It's called \"Subscripting\"**"
   ]
  },
  {
   "cell_type": "markdown",
   "id": "42e2b31e",
   "metadata": {},
   "source": [
    "**Please print the \"0\" character** "
   ]
  },
  {
   "cell_type": "code",
   "execution_count": null,
   "id": "dd19a7d5",
   "metadata": {},
   "outputs": [],
   "source": []
  },
  {
   "cell_type": "code",
   "execution_count": null,
   "id": "3ad51001",
   "metadata": {},
   "outputs": [],
   "source": []
  },
  {
   "cell_type": "code",
   "execution_count": null,
   "id": "128cba5f",
   "metadata": {},
   "outputs": [],
   "source": []
  },
  {
   "cell_type": "code",
   "execution_count": null,
   "id": "5554bf2f",
   "metadata": {},
   "outputs": [],
   "source": []
  },
  {
   "cell_type": "markdown",
   "id": "b735e128",
   "metadata": {},
   "source": [
    "**Integer**"
   ]
  },
  {
   "cell_type": "code",
   "execution_count": null,
   "id": "0aea011a",
   "metadata": {},
   "outputs": [],
   "source": []
  },
  {
   "cell_type": "code",
   "execution_count": null,
   "id": "1a19f437",
   "metadata": {},
   "outputs": [],
   "source": []
  },
  {
   "cell_type": "markdown",
   "id": "83de92da",
   "metadata": {},
   "source": [
    "**Float(Float point number)**"
   ]
  },
  {
   "cell_type": "code",
   "execution_count": null,
   "id": "0524c4de",
   "metadata": {},
   "outputs": [],
   "source": [
    " pi = 3.14159"
   ]
  },
  {
   "cell_type": "code",
   "execution_count": null,
   "id": "09aed7b7",
   "metadata": {},
   "outputs": [],
   "source": []
  },
  {
   "cell_type": "code",
   "execution_count": null,
   "id": "14634af3",
   "metadata": {},
   "outputs": [],
   "source": []
  },
  {
   "cell_type": "markdown",
   "id": "1fa3fc65",
   "metadata": {},
   "source": [
    "**Boolean**"
   ]
  },
  {
   "cell_type": "code",
   "execution_count": null,
   "id": "8f321c9b",
   "metadata": {},
   "outputs": [],
   "source": [
    "# Two possible values. Not any quotation mark.\n",
    "\n",
    "True\n",
    "False"
   ]
  },
  {
   "cell_type": "code",
   "execution_count": null,
   "id": "ff4b8460",
   "metadata": {},
   "outputs": [],
   "source": []
  },
  {
   "cell_type": "code",
   "execution_count": null,
   "id": "a87bda60",
   "metadata": {},
   "outputs": [],
   "source": []
  },
  {
   "cell_type": "markdown",
   "id": "29b0ad20",
   "metadata": {},
   "source": [
    "### Type Error, Type Checking and Type Conversion"
   ]
  },
  {
   "cell_type": "code",
   "execution_count": null,
   "id": "f33b9bc0",
   "metadata": {},
   "outputs": [],
   "source": []
  },
  {
   "cell_type": "code",
   "execution_count": null,
   "id": "c38bc02b",
   "metadata": {},
   "outputs": [],
   "source": []
  },
  {
   "cell_type": "code",
   "execution_count": null,
   "id": "8a291f3c",
   "metadata": {},
   "outputs": [],
   "source": []
  },
  {
   "cell_type": "markdown",
   "id": "c69e1a6c",
   "metadata": {},
   "source": [
    "**type conversion**"
   ]
  },
  {
   "cell_type": "markdown",
   "id": "9ab0ae38",
   "metadata": {},
   "source": [
    "**str() function**"
   ]
  },
  {
   "cell_type": "code",
   "execution_count": null,
   "id": "6fe9dba4",
   "metadata": {},
   "outputs": [],
   "source": []
  },
  {
   "cell_type": "code",
   "execution_count": null,
   "id": "19b48b48",
   "metadata": {},
   "outputs": [],
   "source": []
  },
  {
   "cell_type": "markdown",
   "id": "1fd9cbf1",
   "metadata": {},
   "source": [
    "**float()**"
   ]
  },
  {
   "cell_type": "code",
   "execution_count": null,
   "id": "fb654552",
   "metadata": {},
   "outputs": [],
   "source": []
  },
  {
   "cell_type": "code",
   "execution_count": null,
   "id": "a535b8df",
   "metadata": {},
   "outputs": [],
   "source": []
  },
  {
   "cell_type": "code",
   "execution_count": null,
   "id": "60ff49ab",
   "metadata": {},
   "outputs": [],
   "source": []
  },
  {
   "cell_type": "code",
   "execution_count": null,
   "id": "822fe411",
   "metadata": {},
   "outputs": [],
   "source": []
  },
  {
   "cell_type": "code",
   "execution_count": null,
   "id": "0383e49e",
   "metadata": {},
   "outputs": [],
   "source": []
  },
  {
   "attachments": {
    "Metamy%20Logo3.jpg": {
     "image/jpeg": "[encoded data removed]"
    }
   },
   "cell_type": "markdown",
   "id": "25e350a0",
   "metadata": {},
   "source": [
    "![Metamy%20Logo3.jpg](attachment:Metamy%20Logo3.jpg)"
   ]
  }
 ],
 "metadata": {
  "hide_input": false,
  "kernelspec": {
   "display_name": "Python 3 (ipykernel)",
   "language": "python",
   "name": "python3"
  },
  "language_info": {
   "codemirror_mode": {
    "name": "ipython",
    "version": 3
   },
   "file_extension": ".py",
   "mimetype": "text/x-python",
   "name": "python",
   "nbconvert_exporter": "python",
   "pygments_lexer": "ipython3",
   "version": "3.11.5"
  },
  "nbTranslate": {
   "displayLangs": [
    "*"
   ],
   "hotkey": "alt-t",
   "langInMainMenu": true,
   "sourceLang": "en",
   "targetLang": "fr",
   "useGoogleTranslate": true
  },
  "toc": {
   "base_numbering": 1,
   "nav_menu": {},
   "number_sections": false,
   "sideBar": true,
   "skip_h1_title": false,
   "title_cell": "Table of Contents",
   "title_sidebar": "Contents",
   "toc_cell": false,
   "toc_position": {},
   "toc_section_display": true,
   "toc_window_display": false
  },
  "varInspector": {
   "cols": {
    "lenName": 16,
    "lenType": 16,
    "lenVar": 40
   },
   "kernels_config": {
    "python": {
     "delete_cmd_postfix": "",
     "delete_cmd_prefix": "del ",
     "library": "var_list.py",
     "varRefreshCmd": "print(var_dic_list())"
    },
    "r": {
     "delete_cmd_postfix": ") ",
     "delete_cmd_prefix": "rm(",
     "library": "var_list.r",
     "varRefreshCmd": "cat(var_dic_list()) "
    }
   },
   "types_to_exclude": [
    "module",
    "function",
    "builtin_function_or_method",
    "instance",
    "_Feature"
   ],
   "window_display": false
  },
  "vp": {
   "vp_config_version": "1.0.0",
   "vp_menu_width": 273,
   "vp_note_display": false,
   "vp_note_width": 0,
   "vp_position": {
    "width": 278
   },
   "vp_section_display": false,
   "vp_signature": "VisualPython"
  }
 },
 "nbformat": 4,
 "nbformat_minor": 5
}
